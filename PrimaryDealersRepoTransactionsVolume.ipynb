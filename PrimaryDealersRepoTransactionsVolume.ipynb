{
  "nbformat": 4,
  "nbformat_minor": 0,
  "metadata": {
    "colab": {
      "provenance": [],
      "authorship_tag": "ABX9TyPAa3klqrdRJOTM8JE2Jzvr",
      "include_colab_link": true
    },
    "kernelspec": {
      "name": "python3",
      "display_name": "Python 3"
    },
    "language_info": {
      "name": "python"
    }
  },
  "cells": [
    {
      "cell_type": "markdown",
      "metadata": {
        "id": "view-in-github",
        "colab_type": "text"
      },
      "source": [
        "<a href=\"https://colab.research.google.com/github/veridelisi/FedMarketDataAPI/blob/main/PrimaryDealersRepoTransactionsVolume.ipynb\" target=\"_parent\"><img src=\"https://colab.research.google.com/assets/colab-badge.svg\" alt=\"Open In Colab\"/></a>"
      ]
    },
    {
      "cell_type": "code",
      "source": [
        "import pandas as pd\n",
        "import requests\n",
        "from io import StringIO\n",
        "\n",
        "# URL of the CSV file\n",
        "url = \"https://markets.newyorkfed.org/api/pd/get/all/timeseries.csv\"\n",
        "\n",
        "# Make the request to download the file\n",
        "response = requests.get(url)\n",
        "\n",
        "# Check if the request was successful\n",
        "if response.status_code == 200:\n",
        "    # Use StringIO to read the CSV text into a DataFrame\n",
        "    data = pd.read_csv(StringIO(response.text))\n",
        "    print(data.describe())  # Display the first few rows of the DataFrame\n",
        "else:\n",
        "    print(f\"Failed to download the file: {response.status_code}\")\n",
        "\n",
        "    print(f\"Failed to download the file: {response.status_code}\")\n",
        "\n",
        "# Convert the date column to datetime if it's not already\n",
        "data['As Of Date'] = pd.to_datetime(data['As Of Date'])\n",
        "\n",
        "# Filter the DataFrame for the specific date\n",
        "filtered_data = data[data['As Of Date'] == '2023-12-06']\n",
        "\n",
        "# Display the filtered DataFrame\n",
        "print(filtered_data)\n",
        "\n",
        "import pandas as pd\n",
        "import requests\n",
        "from io import StringIO\n",
        "\n",
        "# URL of the data definitions CSV file\n",
        "data_definitions_url = \"https://markets.newyorkfed.org/api/pd/list/timeseries.csv\"\n",
        "\n",
        "# Make the request to download the data definitions file\n",
        "response_definitions = requests.get(data_definitions_url)\n",
        "\n",
        "# Check if the request was successful\n",
        "if response_definitions.status_code == 200:\n",
        "    # Load the content of the response into a DataFrame\n",
        "    data_definitions = pd.read_csv(StringIO(response_definitions.text))\n",
        "    print(data_definitions.head())  # Display the first few rows of the DataFrame\n",
        "else:\n",
        "    print(f\"Failed to download the data definitions file: {response_definitions.status_code}\")\n",
        "\n",
        "\n",
        "# Filter the DataFrame for rows containing \"Repurchase Agreements\" in the \"Label\" column\n",
        "repurchase_agreements_rows = data_definitions[data_definitions['Label'].str.contains(\"Repurchase Agreements\", na=False)]\n",
        "\n",
        "print(repurchase_agreements_rows)\n",
        "\n",
        "\n",
        "# Joining the two DataFrames\n",
        "merged_data = pd.merge(filtered_data, repurchase_agreements_rows, left_on='Time Series', right_on='Key Id')\n",
        "\n",
        "# Displaying the merged DataFrame\n",
        "\n",
        "merged_data\n",
        "\n",
        "# Assuming you have a column that contains the phrase \"Repurchase Agreements\"\n",
        "# Replace 'column_name' with the actual name of the column\n",
        "\n",
        "filtered_repurchase_agreements = merged_data[merged_data['Label'].str.startswith('Repurchase Agreements')]\n",
        "\n",
        "# Display the filtered DataFrame\n",
        "#filtered_repurchase_agreements\n",
        "\n",
        "# Assuming 'filtered_repurchase_agreements' is your DataFrame\n",
        "# Remove \"Repurchase Agreements:\" from each row in the \"Label\" column\n",
        "filtered_repurchase_agreements['Label'] = filtered_repurchase_agreements['Label'].str.replace(\"Repurchase Agreements:\", \"\")\n",
        "\n",
        "# Now the \"Label\" column should have the \"Repurchase Agreements:\" statement removed from every row\n",
        "print(filtered_repurchase_agreements['Label'])"
      ],
      "metadata": {
        "id": "TbYaVQbSTigr"
      },
      "execution_count": null,
      "outputs": []
    },
    {
      "cell_type": "code",
      "source": [
        "import pandas as pd\n",
        "import numpy as np\n",
        "\n",
        "# Your DataFrame is named filtered_repurchase_agreements\n",
        "# Define the pattern to match the different categories\n",
        "pattern = (\n",
        "    r\"(U.S. Treasury securities \\(excluding TIPS\\) -|\"\n",
        "    r\"U.S. Treasury Inflation-Protected Securities \\(TIPS\\) -|\"\n",
        "    r\"Federal Agency and GSE Residential MBS -|\"\n",
        "    r\"Federal Agency and GSE CMBS -|\"\n",
        "    r\"Corporate Debt -|\"\n",
        "    r\"Asset-backed securities -|\"\n",
        "    r\"Equities -|\"\n",
        "    r\"Other -|\"\n",
        "    r\"Federal Agency and GSE Securities \\(excluding MBS\\) -)\"\n",
        ")\n",
        "\n",
        "# Extract the matching text into a new column 'label1'\n",
        "filtered_repurchase_agreements['label1'] = filtered_repurchase_agreements['Label'].str.extract(pattern)\n",
        "\n",
        "# Replace NaN with an empty string or any other placeholder if needed\n",
        "filtered_repurchase_agreements['label1'] = filtered_repurchase_agreements['label1'].replace(np.nan, '')\n",
        "\n",
        "# Display the DataFrame to verify the changes\n",
        "filtered_repurchase_agreements\n"
      ],
      "metadata": {
        "id": "CAWXYUCUT6NW"
      },
      "execution_count": null,
      "outputs": []
    },
    {
      "cell_type": "code",
      "source": [
        "# Define the pattern to match the different categories\n",
        "pattern_to_remove = (\n",
        "    r\"U.S. Treasury securities \\(excluding TIPS\\) -|\"\n",
        "    r\"U.S. Treasury Inflation-Protected Securities \\(TIPS\\) -|\"\n",
        "    r\"Federal Agency and GSE Residential MBS -|\"\n",
        "    r\"Federal Agency and GSE CMBS -|\"\n",
        "    r\"Corporate Debt -|\"\n",
        "    r\"Asset-backed securities -|\"\n",
        "    r\"Equities -|\"\n",
        "    r\"Other -|\"\n",
        "    r\"Federal Agency and GSE Securities \\(excluding MBS\\) -\"\n",
        ")\n",
        "\n",
        "# Remove the matched text from the 'Label' column\n",
        "filtered_repurchase_agreements['Label'] = filtered_repurchase_agreements['Label'].str.replace(pattern_to_remove, \"\", regex=True)\n",
        "\n",
        "# Display the DataFrame to verify the changes\n",
        "filtered_repurchase_agreements\n"
      ],
      "metadata": {
        "id": "cz_oLRleU-x6"
      },
      "execution_count": null,
      "outputs": []
    },
    {
      "cell_type": "code",
      "source": [
        "# Define the pattern with capture groups to match the desired expressions for label2\n",
        "# Define the pattern with a non-capturing group to match the desired expressions for label2\n",
        "pattern_label2 = (\n",
        "    r\"(Cleared Bilateral|\"\n",
        "    r\"Uncleared Bilateral|\"\n",
        "    r\"GCF|\"\n",
        "    r\"Triparty \\(excluding GCF\\) )\"\n",
        ")\n",
        "\n",
        "# Extract the matching text into a new column 'label2'\n",
        "# The 'expand=False' parameter tells pandas to return a Series, which ensures a single column\n",
        "filtered_repurchase_agreements['label2'] = filtered_repurchase_agreements['Label'].str.extract(pattern_label2, expand=False)\n",
        "\n",
        "# Replace NaN with an empty string or any other placeholder if needed\n",
        "filtered_repurchase_agreements['label2'] = filtered_repurchase_agreements['label2'].replace(np.nan, '')\n",
        "\n",
        "# Display the DataFrame to verify the changes\n",
        "filtered_repurchase_agreements\n",
        "\n",
        "\n"
      ],
      "metadata": {
        "id": "s98wHSwTVjTG"
      },
      "execution_count": null,
      "outputs": []
    },
    {
      "cell_type": "code",
      "source": [
        "# Define the pattern to match the expressions to be removed\n",
        "pattern_label2 = (\n",
        "    r\"Cleared Bilateral|\"\n",
        "    r\"Uncleared Bilateral|\"\n",
        "    r\"GCF|\"\n",
        "    r\"Triparty \\(excluding GCF\\) \"\n",
        ")\n",
        "\n",
        "# Remove the matched text from the 'Label' column\n",
        "filtered_repurchase_agreements['Label'] = filtered_repurchase_agreements['Label'].str.replace(pattern_label2, \"\", regex=True)\n",
        "\n",
        "# Display the DataFrame to verify the changes\n",
        "filtered_repurchase_agreements\n"
      ],
      "metadata": {
        "id": "CaDiiSEtW4Ok"
      },
      "execution_count": null,
      "outputs": []
    },
    {
      "cell_type": "code",
      "source": [
        "# Sample data creation for demonstration\n",
        "# Let's assume filtered_repurchase_agreements is your DataFrame and it looks like this:\n",
        "# filtered_repurchase_agreements = pd.DataFrame({\n",
        "#     'label1': ['U.S. Treasury securities (excluding TIPS) -', 'U.S. Treasury Inflation-Protected Securities (TIPS) -'],\n",
        "#     'Value (millions)': ['66284683379843182764808442509*2316039994', '123456789*987654321']\n",
        "# })\n",
        "\n",
        "# Step 1: Split the 'Value (millions)' column by asterisk and expand into separate columns\n",
        "split_values = filtered_repurchase_agreements['Value (millions)'].str.split('*', expand=True)\n",
        "\n",
        "# Step 2: Convert the split strings into numbers and sum them row-wise\n",
        "# Make sure all values are converted to numbers, here we use pandas.to_numeric with errors='coerce' to handle non-numeric values\n",
        "split_values = split_values.apply(pd.to_numeric, errors='coerce')\n",
        "\n",
        "# Add a new column to the existing DataFrame that contains the sum of the numeric values\n",
        "filtered_repurchase_agreements['Sum of Values'] = split_values.sum(axis=1)\n",
        "\n",
        "# Now, if you want to sum these values for each category in 'label1'\n",
        "category_sums = filtered_repurchase_agreements.groupby('label1')['Sum of Values'].sum()\n",
        "\n",
        "# Display the resulting sums for each category\n",
        "category_sums\n"
      ],
      "metadata": {
        "id": "bbVNoA1JZB-K"
      },
      "execution_count": null,
      "outputs": []
    },
    {
      "cell_type": "code",
      "source": [
        "# Use the pivot_table function to create the desired summary\n",
        "pivot_table = filtered_repurchase_agreements.pivot_table(\n",
        "    index='label1',  # Rows (index) will be labeled by unique values from 'label1'\n",
        "    columns='label2',  # Columns will be labeled by unique values from 'label2'\n",
        "    values='Sum of Values',  # The cell values are the sums from 'Sum of Values'\n",
        "    aggfunc='sum'  # Use the sum function to aggregate\n",
        ").fillna(0)  # Fill any NaN values with 0\n",
        "\n",
        "\n",
        "\n",
        "\n",
        "pivot_table\n"
      ],
      "metadata": {
        "id": "lKPEMTyNZVHy"
      },
      "execution_count": null,
      "outputs": []
    }
  ]
}